{
 "cells": [
  {
   "cell_type": "markdown",
   "metadata": {
    "id": "oIAnNuuX2EOr"
   },
   "source": [
    "# 추천 시스템 (Recommender Systems)\n",
    "\n",
    "* 추천 시스템은 크게 두가지로 구분 가능\n",
    "  * 컨텐츠 기반 필터링 (content-based filtering)\n",
    "  * 협업 필터링 (collaborative filtering)\n",
    "* 두가지를 조합한 hybrid 방식도 가능\n",
    "* 컨텐츠 기반 필터링은 지금까지 사용자의 이전 행동과 명시적 피드백을 통해 사용자가 좋아하는 것과 유사한 항목을 추천\n",
    "* 협업 필터링은 사용자와 항목간의 유사성을 동시에 사용해 추천"
   ]
  },
  {
   "cell_type": "markdown",
   "metadata": {
    "id": "pKQvtsfX2bRf"
   },
   "source": [
    "## Surprise - model based cf\n",
    "\n",
    "* 추천 시스템 개발을 위한 라이브러리\n",
    "* 다양한 모델과 데이터 제공\n",
    "* scikit-learn과 유사한 사용 방법"
   ]
  },
  {
   "cell_type": "markdown",
   "metadata": {
    "id": "f8S2mbY13TPl"
   },
   "source": [
    "간단한 surprise 실습"
   ]
  },
  {
   "cell_type": "code",
   "execution_count": 9,
   "metadata": {
    "id": "FXrDk0XH2vbx"
   },
   "outputs": [],
   "source": [
    "from surprise import SVD\n",
    "from surprise import Dataset\n",
    "from surprise.model_selection import cross_validate\n",
    "from tqdm import tqdm_notebook as tq"
   ]
  },
  {
   "cell_type": "code",
   "execution_count": 18,
   "metadata": {
    "colab": {
     "base_uri": "https://localhost:8080/",
     "height": 199
    },
    "id": "M0SJB24k3ReQ",
    "outputId": "f06a6723-6e44-4770-d8c8-4af60b7808f5"
   },
   "outputs": [
    {
     "data": {
      "text/plain": [
       "[('196', '242', 3.0, '881250949'),\n",
       " ('186', '302', 3.0, '891717742'),\n",
       " ('22', '377', 1.0, '878887116'),\n",
       " ('244', '51', 2.0, '880606923'),\n",
       " ('166', '346', 1.0, '886397596'),\n",
       " ('298', '474', 4.0, '884182806'),\n",
       " ('115', '265', 2.0, '881171488'),\n",
       " ('253', '465', 5.0, '891628467'),\n",
       " ('305', '451', 3.0, '886324817'),\n",
       " ('6', '86', 3.0, '883603013'),\n",
       " ('62', '257', 2.0, '879372434'),\n",
       " ('286', '1014', 5.0, '879781125'),\n",
       " ('200', '222', 5.0, '876042340'),\n",
       " ('210', '40', 3.0, '891035994'),\n",
       " ('224', '29', 3.0, '888104457'),\n",
       " ('303', '785', 3.0, '879485318'),\n",
       " ('122', '387', 5.0, '879270459'),\n",
       " ('194', '274', 2.0, '879539794'),\n",
       " ('291', '1042', 4.0, '874834944'),\n",
       " ('234', '1184', 2.0, '892079237'),\n",
       " ('119', '392', 4.0, '886176814'),\n",
       " ('167', '486', 4.0, '892738452'),\n",
       " ('299', '144', 4.0, '877881320'),\n",
       " ('291', '118', 2.0, '874833878'),\n",
       " ('308', '1', 4.0, '887736532'),\n",
       " ('95', '546', 2.0, '879196566'),\n",
       " ('38', '95', 5.0, '892430094'),\n",
       " ('102', '768', 2.0, '883748450'),\n",
       " ('63', '277', 4.0, '875747401'),\n",
       " ('160', '234', 5.0, '876861185'),\n",
       " ('50', '246', 3.0, '877052329'),\n",
       " ('301', '98', 4.0, '882075827'),\n",
       " ('225', '193', 4.0, '879539727'),\n",
       " ('290', '88', 4.0, '880731963'),\n",
       " ('97', '194', 3.0, '884238860'),\n",
       " ('157', '274', 4.0, '886890835'),\n",
       " ('181', '1081', 1.0, '878962623'),\n",
       " ('278', '603', 5.0, '891295330'),\n",
       " ('276', '796', 1.0, '874791932'),\n",
       " ('7', '32', 4.0, '891350932'),\n",
       " ('10', '16', 4.0, '877888877'),\n",
       " ('284', '304', 4.0, '885329322'),\n",
       " ('201', '979', 2.0, '884114233'),\n",
       " ('276', '564', 3.0, '874791805'),\n",
       " ('287', '327', 5.0, '875333916'),\n",
       " ('246', '201', 5.0, '884921594'),\n",
       " ('242', '1137', 5.0, '879741196'),\n",
       " ('249', '241', 5.0, '879641194'),\n",
       " ('99', '4', 5.0, '886519097'),\n",
       " ('178', '332', 3.0, '882823437'),\n",
       " ('251', '100', 4.0, '886271884'),\n",
       " ('81', '432', 2.0, '876535131'),\n",
       " ('260', '322', 4.0, '890618898'),\n",
       " ('25', '181', 5.0, '885853415'),\n",
       " ('59', '196', 5.0, '888205088'),\n",
       " ('72', '679', 2.0, '880037164'),\n",
       " ('87', '384', 4.0, '879877127'),\n",
       " ('290', '143', 5.0, '880474293'),\n",
       " ('42', '423', 5.0, '881107687'),\n",
       " ('292', '515', 4.0, '881103977'),\n",
       " ('115', '20', 3.0, '881171009'),\n",
       " ('20', '288', 1.0, '879667584'),\n",
       " ('201', '219', 4.0, '884112673'),\n",
       " ('13', '526', 3.0, '882141053'),\n",
       " ('246', '919', 4.0, '884920949'),\n",
       " ('138', '26', 5.0, '879024232'),\n",
       " ('167', '232', 1.0, '892738341'),\n",
       " ('60', '427', 5.0, '883326620'),\n",
       " ('57', '304', 5.0, '883698581'),\n",
       " ('223', '274', 4.0, '891550094'),\n",
       " ('189', '512', 4.0, '893277702'),\n",
       " ('243', '15', 3.0, '879987440'),\n",
       " ('92', '1049', 1.0, '890251826'),\n",
       " ('246', '416', 3.0, '884923047'),\n",
       " ('194', '165', 4.0, '879546723'),\n",
       " ('241', '690', 2.0, '887249482'),\n",
       " ('178', '248', 4.0, '882823954'),\n",
       " ('254', '1444', 3.0, '886475558'),\n",
       " ('293', '5', 3.0, '888906576'),\n",
       " ('127', '229', 5.0, '884364867'),\n",
       " ('225', '237', 5.0, '879539643'),\n",
       " ('299', '229', 3.0, '878192429'),\n",
       " ('225', '480', 5.0, '879540748'),\n",
       " ('276', '54', 3.0, '874791025'),\n",
       " ('291', '144', 5.0, '874835091'),\n",
       " ('222', '366', 4.0, '878183381'),\n",
       " ('267', '518', 5.0, '878971773'),\n",
       " ('42', '403', 3.0, '881108684'),\n",
       " ('11', '111', 4.0, '891903862'),\n",
       " ('95', '625', 4.0, '888954412'),\n",
       " ('8', '338', 4.0, '879361873'),\n",
       " ('162', '25', 4.0, '877635573'),\n",
       " ('87', '1016', 4.0, '879876194'),\n",
       " ('279', '154', 5.0, '875296291'),\n",
       " ('145', '275', 2.0, '885557505'),\n",
       " ('119', '1153', 5.0, '874781198'),\n",
       " ('62', '498', 4.0, '879373848'),\n",
       " ('62', '382', 3.0, '879375537'),\n",
       " ('28', '209', 4.0, '881961214'),\n",
       " ('135', '23', 4.0, '879857765')]"
      ]
     },
     "execution_count": 18,
     "metadata": {},
     "output_type": "execute_result"
    }
   ],
   "source": [
    "data = Dataset.load_builtin('ml-100k',prompt = False)\n",
    "data.raw_ratings[:100] # user, item, user_review, user_id"
   ]
  },
  {
   "cell_type": "code",
   "execution_count": 12,
   "metadata": {
    "colab": {
     "base_uri": "https://localhost:8080/",
     "height": 145
    },
    "id": "nAF9VVHt9qz9",
    "outputId": "59e89ec1-7a4f-45ee-f084-e7cb1e94cfea"
   },
   "outputs": [],
   "source": [
    "model = SVD()"
   ]
  },
  {
   "cell_type": "markdown",
   "metadata": {},
   "source": [
    "### SVD를 활용하여 각각의 measure 측정"
   ]
  },
  {
   "cell_type": "code",
   "execution_count": 15,
   "metadata": {},
   "outputs": [
    {
     "name": "stdout",
     "output_type": "stream",
     "text": [
      "Evaluating RMSE, MAE of algorithm SVD on 5 split(s).\n",
      "\n",
      "                  Fold 1  Fold 2  Fold 3  Fold 4  Fold 5  Mean    Std     \n",
      "RMSE (testset)    0.9392  0.9315  0.9357  0.9290  0.9420  0.9355  0.0048  \n",
      "MAE (testset)     0.7396  0.7332  0.7392  0.7330  0.7406  0.7371  0.0033  \n",
      "Fit time          9.13    9.18    8.71    9.05    9.96    9.20    0.41    \n",
      "Test time         0.28    0.27    0.26    0.30    0.27    0.28    0.01    \n"
     ]
    },
    {
     "data": {
      "text/plain": [
       "{'test_rmse': array([0.93916614, 0.93152478, 0.93567461, 0.92898797, 0.94204177]),\n",
       " 'test_mae': array([0.73964231, 0.73322747, 0.7391848 , 0.73301872, 0.74060978]),\n",
       " 'fit_time': (9.130003929138184,\n",
       "  9.176007986068726,\n",
       "  8.705805540084839,\n",
       "  9.047016143798828,\n",
       "  9.956223011016846),\n",
       " 'test_time': (0.27710580825805664,\n",
       "  0.2703235149383545,\n",
       "  0.2624225616455078,\n",
       "  0.30156826972961426,\n",
       "  0.268876314163208)}"
      ]
     },
     "execution_count": 15,
     "metadata": {},
     "output_type": "execute_result"
    }
   ],
   "source": [
    "cross_validate(model,data,measures = ['rmse','mae'],cv = 5, verbose = True)"
   ]
  },
  {
   "cell_type": "markdown",
   "metadata": {
    "id": "tP5L65zvCRlv"
   },
   "source": [
    "## 컨텐츠 기반 필터링 (Content-based Filtering)\n",
    "\n",
    "* 컨텐츠 기반 필터링은 이전의 행동과 명시적 피드백을 통해 좋아하는 것과 유사한 항목을 추천\n",
    "  * ex) 내가 지금 까지 시청한 영화 목록과 다른 사용자의 시청 목록을 비교해 나와 비슷한 취향의 사용자가 시청한 영화를 추천\n",
    "* 유사도를 기반으로 추천\n",
    "* 컨텐츠 기반 필터링은 다음과 같은 장단점이 있다.\n",
    "  * 장점\n",
    "    * 많은 수의 사용자를 대상으로 쉽게 확장 가능\n",
    "    * 사용자가 관심을 갖지 않던 상품 추천 가능\n",
    "  * 단점\n",
    "    * 입력 특성을 직접 설계해야 하기 때문에 많은 도메인 지식이 필요\n",
    "    * 사용자의 기존 관심사항을 기반으로만 추천 가능"
   ]
  },
  {
   "cell_type": "code",
   "execution_count": 19,
   "metadata": {
    "id": "M81hRKa9-9pK"
   },
   "outputs": [],
   "source": [
    "import numpy as np\n",
    "from surprise import Dataset"
   ]
  },
  {
   "cell_type": "markdown",
   "metadata": {
    "id": "0NyTt1u8LLCP"
   },
   "source": [
    "* 이진 벡터의 내적을 통해 다른 사용자들과의 유사도 구하기\n",
    "* 나와 가장 높은 유사도를 가진 사용자의 시청 목록을 추천"
   ]
  },
  {
   "cell_type": "code",
   "execution_count": 21,
   "metadata": {
    "id": "-Y3Y_rNWH-zT"
   },
   "outputs": [],
   "source": [
    "data = Dataset.load_builtin('ml-100k',prompt=False)\n",
    "raw_data = np.array(data.raw_ratings,dtype=int)"
   ]
  },
  {
   "cell_type": "code",
   "execution_count": 22,
   "metadata": {
    "id": "z60YDlPOJzSr"
   },
   "outputs": [],
   "source": [
    "raw_data[:,0] -=1\n",
    "raw_data[:,1] -=1"
   ]
  },
  {
   "cell_type": "code",
   "execution_count": 24,
   "metadata": {
    "colab": {
     "base_uri": "https://localhost:8080/",
     "height": 35
    },
    "id": "4f20U_BFIbQA",
    "outputId": "28739f4f-0785-4584-f8d5-0ed10f595ba9"
   },
   "outputs": [
    {
     "data": {
      "text/plain": [
       "(943, 1682)"
      ]
     },
     "execution_count": 24,
     "metadata": {},
     "output_type": "execute_result"
    }
   ],
   "source": [
    "n_users = np.max(raw_data[:,0])\n",
    "n_movies = np.max(raw_data[:,1])\n",
    "shape = (n_users +1,n_movies+1)\n",
    "shape"
   ]
  },
  {
   "cell_type": "code",
   "execution_count": 30,
   "metadata": {
    "colab": {
     "base_uri": "https://localhost:8080/",
     "height": 145
    },
    "id": "JT6HXk_8I4Zd",
    "outputId": "86fe5ac1-bb15-4822-e7ab-0f1b96fec83d"
   },
   "outputs": [
    {
     "data": {
      "text/plain": [
       "array([[1, 1, 1, ..., 0, 0, 0],\n",
       "       [1, 0, 0, ..., 0, 0, 0],\n",
       "       [0, 0, 0, ..., 0, 0, 0],\n",
       "       ...,\n",
       "       [1, 0, 0, ..., 0, 0, 0],\n",
       "       [0, 0, 0, ..., 0, 0, 0],\n",
       "       [0, 1, 0, ..., 0, 0, 0]])"
      ]
     },
     "execution_count": 30,
     "metadata": {},
     "output_type": "execute_result"
    }
   ],
   "source": [
    "adj_matrix = np.ndarray(shape,dtype = int)\n",
    "for user_id,movie_id,rting,time in raw_data:\n",
    "    adj_matrix[user_id][movie_id] =1.\n",
    "adj_matrix # 1이 있는 위치가 현재 id가 있는 위치이다."
   ]
  },
  {
   "cell_type": "code",
   "execution_count": 33,
   "metadata": {
    "colab": {
     "base_uri": "https://localhost:8080/",
     "height": 35
    },
    "id": "bVShJje-Jn0x",
    "outputId": "c2100d21-4d22-4f06-ee79-a821297f16dc"
   },
   "outputs": [
    {
     "name": "stdout",
     "output_type": "stream",
     "text": [
      "Best Match:183, Best Match ID:275\n"
     ]
    }
   ],
   "source": [
    "my_id, my_vector = 0,adj_matrix [0]\n",
    "best_match, best_match_id, best_match_vector =-1,-1,[]\n",
    "\n",
    "for user_id,user_vector in enumerate(adj_matrix):\n",
    "    if my_id != user_id:\n",
    "        similarity = np.dot(my_vector,user_vector)\n",
    "        if similarity > best_match: # 이경우가 183, 인접행렬을 통해 유사도를 계산하였다.\n",
    "            best_match = similarity\n",
    "            best_match_id = user_id\n",
    "            best_match_vector = user_vector \n",
    "            \n",
    "print('Best Match:{}, Best Match ID:{}'.format(best_match,best_match_id)) "
   ]
  },
  {
   "cell_type": "markdown",
   "metadata": {},
   "source": [
    "### 추천 리스트"
   ]
  },
  {
   "cell_type": "code",
   "execution_count": 35,
   "metadata": {
    "colab": {
     "base_uri": "https://localhost:8080/",
     "height": 55
    },
    "id": "mRr8UnD7MB7U",
    "outputId": "edf72700-4f7a-4dc7-e972-c430502e2746"
   },
   "outputs": [
    {
     "name": "stdout",
     "output_type": "stream",
     "text": [
      "[272, 273, 275, 280, 281, 283, 287, 288, 289, 290, 292, 293, 297, 299, 300, 301, 302, 306, 312, 314, 315, 316, 317, 321, 322, 323, 324, 327, 330, 331, 332, 333, 339, 342, 345, 346, 353, 354, 355, 356, 357, 363, 364, 365, 366, 372, 374, 378, 379, 381, 382, 383, 384, 385, 386, 387, 390, 391, 392, 394, 395, 396, 398, 400, 401, 402, 403, 404, 405, 406, 407, 408, 409, 410, 412, 414, 416, 417, 418, 419, 420, 422, 424, 425, 426, 427, 428, 430, 431, 432, 435, 442, 446, 447, 448, 449, 450, 451, 452, 454, 455, 457, 460, 461, 462, 468, 469, 470, 471, 472, 473, 474, 478, 495, 500, 507, 517, 522, 525, 530, 539, 540, 543, 545, 546, 548, 549, 550, 551, 553, 557, 558, 560, 561, 562, 563, 565, 566, 567, 568, 570, 571, 574, 575, 576, 577, 580, 581, 582, 585, 587, 589, 590, 594, 596, 602, 623, 626, 627, 630, 633, 635, 639, 646, 648, 651, 652, 654, 657, 664, 668, 671, 677, 678, 681, 683, 684, 685, 690, 691, 692, 695, 696, 708, 709, 714, 718, 719, 720, 724, 726, 727, 731, 733, 734, 736, 738, 741, 742, 745, 746, 747, 749, 750, 754, 758, 762, 764, 767, 768, 769, 770, 771, 772, 773, 778, 779, 782, 785, 788, 789, 793, 795, 796, 799, 800, 801, 802, 805, 806, 808, 815, 819, 822, 824, 830, 839, 842, 843, 844, 852, 853, 870, 875, 878, 880, 889, 901, 914, 915, 918, 921, 927, 929, 930, 938, 940, 941, 942, 948, 950, 958, 968, 973, 974, 976, 992, 999, 1005, 1009, 1010, 1012, 1015, 1018, 1027, 1030, 1034, 1035, 1041, 1043, 1045, 1046, 1051, 1055, 1072, 1073, 1078, 1080, 1082, 1088, 1089, 1090, 1094, 1097, 1108, 1109, 1117, 1128, 1130, 1134, 1139, 1140, 1144, 1156, 1169, 1171, 1179, 1193, 1198, 1207, 1209, 1212, 1217, 1219, 1220, 1227, 1231, 1238, 1239, 1243, 1244, 1252, 1266, 1272, 1273, 1300, 1313, 1406, 1412, 1415, 1470, 1477, 1480, 1481, 1482]\n"
     ]
    }
   ],
   "source": [
    "recommend_list = []\n",
    "for i, log in enumerate(zip(my_vector, best_match_vector)):\n",
    "    log1, log2 = log\n",
    "    if log1 <1. and log2 >0.:\n",
    "        recommend_list.append(i)\n",
    "print(recommend_list) "
   ]
  },
  {
   "cell_type": "markdown",
   "metadata": {
    "id": "zR7-LITWZQnJ"
   },
   "source": [
    "## 유클리드 거리를 사용해 추천\n",
    "$$euclidean = \\sqrt{\\sum_{d=1}^{D}(A_i - B_i)^2}$$\n",
    "#### 거리가 가까울 수록(값이 작을 수록) 나와 유사한 사용자"
   ]
  },
  {
   "cell_type": "code",
   "execution_count": 38,
   "metadata": {
    "colab": {
     "base_uri": "https://localhost:8080/",
     "height": 35
    },
    "id": "WhbLJGz3NuNA",
    "outputId": "1dc2536f-a794-4a64-f55e-b60b378b48cb"
   },
   "outputs": [
    {
     "name": "stdout",
     "output_type": "stream",
     "text": [
      "Best Match:14.832396974191326, Best Match ID:737\n"
     ]
    }
   ],
   "source": [
    "my_id, my_vector = 0,adj_matrix [0]\n",
    "best_match, best_match_id, best_match_vector = 9999, -1,[]\n",
    "\n",
    "for user_id,user_vector in enumerate(adj_matrix):\n",
    "    if my_id != user_id:\n",
    "        euclidean_dist = np.sqrt(np.sum(np.square(my_vector - user_vector))) # 위에 있는 euclidean 공식 수식화\n",
    "        if euclidean_dist < best_match: \n",
    "            best_match = euclidean_dist\n",
    "            best_match_id = user_id\n",
    "            best_match_vector = user_vector \n",
    "            \n",
    "print('Best Match:{}, Best Match ID:{}'.format(best_match,best_match_id)) "
   ]
  },
  {
   "cell_type": "code",
   "execution_count": 39,
   "metadata": {
    "colab": {
     "base_uri": "https://localhost:8080/",
     "height": 55
    },
    "id": "xbS037xebA76",
    "outputId": "9c60e36f-8ea0-41c3-ac6e-5f1682a0f7a4"
   },
   "outputs": [
    {
     "name": "stdout",
     "output_type": "stream",
     "text": [
      "[297, 312, 317, 342, 356, 366, 379, 384, 392, 402, 404, 407, 417, 422, 428, 433, 448, 454, 469, 473, 495, 510, 516, 526, 527, 549, 567, 602, 635, 649, 650, 654, 658, 661, 664, 696, 731, 746, 750, 754, 915, 918, 925, 929, 950, 968, 1015, 1046]\n"
     ]
    }
   ],
   "source": [
    "recommend_list = []\n",
    "for i, log in enumerate(zip(my_vector, best_match_vector)):\n",
    "    log1, log2 = log\n",
    "    if log1 <1. and log2 >0.:\n",
    "        recommend_list.append(i)\n",
    "print(recommend_list) "
   ]
  },
  {
   "cell_type": "markdown",
   "metadata": {
    "id": "52c6nfonct7x"
   },
   "source": [
    "* 코사인 유사도를 사용해 추천\n",
    "\n",
    "\\begin{equation}\n",
    "cos \\theta = \\frac{A \\cdot B}{||A|| \\times ||B||}\n",
    "\\end{equation}\n",
    "* 두 벡터가 이루고 있는 각을 계산 코드 만들기"
   ]
  },
  {
   "cell_type": "code",
   "execution_count": 18,
   "metadata": {
    "id": "WEJMnmAYejJW"
   },
   "outputs": [],
   "source": [
    "def compute_cos_similarity(v1,v2):\n",
    "    norm1 = np.sqrt(np.sum(np.square(v1)))\n",
    "    norm2 = np.sqrt(np.sum(np.square(v2)))\n",
    "    dot = np.dot(v1,v2)\n",
    "    return dot/(norm1*norm2)"
   ]
  },
  {
   "cell_type": "code",
   "execution_count": 44,
   "metadata": {
    "colab": {
     "base_uri": "https://localhost:8080/",
     "height": 35
    },
    "id": "eouFYlVZb3iT",
    "outputId": "5e4ce214-b5e9-4388-dea2-378ac7af2538"
   },
   "outputs": [
    {
     "name": "stdout",
     "output_type": "stream",
     "text": [
      "Best Match:0.5278586163659506, Best Match ID:915\n"
     ]
    }
   ],
   "source": [
    "my_id, my_vector = 0,adj_matrix [0]\n",
    "best_match, best_match_id, best_match_vector = -1, -1,[]\n",
    "\n",
    "for user_id,user_vector in enumerate(adj_matrix):\n",
    "    if my_id != user_id:\n",
    "        cos_similarity = compute_cos_similarity(my_vector,user_vector) #코사인 유사도 함수\n",
    "        if cos_similarity > best_match: \n",
    "            best_match = cos_similarity\n",
    "            best_match_id = user_id\n",
    "            best_match_vector = user_vector \n",
    "            \n",
    "print('Best Match:{}, Best Match ID:{}'.format(best_match,best_match_id)) "
   ]
  },
  {
   "cell_type": "markdown",
   "metadata": {},
   "source": [
    "## 915번은 봤지만 나는 안본 영화 추천"
   ]
  },
  {
   "cell_type": "code",
   "execution_count": 45,
   "metadata": {
    "colab": {
     "base_uri": "https://localhost:8080/",
     "height": 55
    },
    "id": "HVhjBMure_4D",
    "outputId": "1db906b9-51ba-488c-bd2d-134dbdfa6e97"
   },
   "outputs": [
    {
     "name": "stdout",
     "output_type": "stream",
     "text": [
      "[272, 275, 279, 280, 283, 285, 289, 294, 297, 316, 317, 355, 365, 366, 368, 379, 380, 381, 384, 386, 392, 398, 401, 404, 416, 420, 422, 424, 426, 427, 430, 432, 450, 460, 461, 466, 469, 471, 473, 474, 475, 479, 482, 483, 497, 505, 508, 510, 511, 522, 526, 527, 529, 530, 534, 536, 540, 545, 548, 549, 556, 557, 558, 560, 565, 567, 568, 569, 577, 580, 581, 582, 592, 596, 630, 635, 639, 641, 649, 651, 654, 673, 677, 678, 683, 684, 692, 696, 701, 703, 707, 708, 709, 712, 714, 719, 720, 726, 731, 734, 736, 738, 740, 745, 747, 754, 755, 761, 762, 763, 766, 780, 789, 791, 805, 819, 823, 824, 830, 843, 862, 865, 918, 929, 930, 938, 942, 943, 947, 958, 959, 960, 970, 977, 1004, 1008, 1009, 1010, 1013, 1041, 1045, 1069, 1072, 1073, 1078, 1097, 1100, 1108, 1112, 1118, 1134, 1193, 1205, 1207, 1216, 1219, 1267, 1334, 1400, 1427, 1596, 1681]\n"
     ]
    }
   ],
   "source": [
    "recommend_list = []\n",
    "for i, log in enumerate(zip(my_vector, best_match_vector)):\n",
    "    log1, log2 = log\n",
    "    if log1 <1. and log2 >0.:\n",
    "        recommend_list.append(i)\n",
    "print(recommend_list) "
   ]
  },
  {
   "cell_type": "markdown",
   "metadata": {
    "id": "0dbZPgC4gZYw"
   },
   "source": [
    "기존 방법에 명시적 피드백(사용자가 평가한 영화 점수)을 추가해 실험해보았다."
   ]
  },
  {
   "cell_type": "code",
   "execution_count": 47,
   "metadata": {
    "colab": {
     "base_uri": "https://localhost:8080/",
     "height": 145
    },
    "id": "_5udkr1PfGAD",
    "outputId": "8776f6cd-640b-4fdf-bbe8-1aa53e589f08"
   },
   "outputs": [
    {
     "data": {
      "text/plain": [
       "array([[5, 3, 4, ..., 0, 0, 0],\n",
       "       [4, 0, 0, ..., 0, 0, 0],\n",
       "       [0, 0, 0, ..., 0, 0, 0],\n",
       "       ...,\n",
       "       [5, 0, 0, ..., 0, 0, 0],\n",
       "       [0, 0, 0, ..., 0, 0, 0],\n",
       "       [0, 5, 0, ..., 0, 0, 0]])"
      ]
     },
     "execution_count": 47,
     "metadata": {},
     "output_type": "execute_result"
    }
   ],
   "source": [
    "adj_matrix = np.ndarray(shape,dtype=int)\n",
    "for user_id,movie_id,rating,time in raw_data:\n",
    "    adj_matrix[user_id][movie_id] = rating\n",
    "adj_matrix #기존 정보는 1을 넣으면서 봤냐 안봤냐만 알고 있었지만 -> 본 이후에 평가 점수를 반영한다"
   ]
  },
  {
   "cell_type": "code",
   "execution_count": 48,
   "metadata": {
    "colab": {
     "base_uri": "https://localhost:8080/",
     "height": 35
    },
    "id": "ApfZVTtGgs41",
    "outputId": "b14f2be8-5f6a-460a-d380-113d5e512b1d"
   },
   "outputs": [
    {
     "name": "stdout",
     "output_type": "stream",
     "text": [
      "Best Match:55.06359959174482, Best Match ID:737\n"
     ]
    }
   ],
   "source": [
    "my_id, my_vector = 0,adj_matrix [0]\n",
    "best_match, best_match_id, best_match_vector = 9999, -1,[]\n",
    "\n",
    "for user_id,user_vector in enumerate(adj_matrix):\n",
    "    if my_id != user_id:\n",
    "        euclidean_dist = np.sqrt(np.sum(np.square(my_vector - user_vector))) # 위에 있는 euclidean 공식 수식화\n",
    "        if euclidean_dist < best_match: \n",
    "            best_match = euclidean_dist\n",
    "            best_match_id = user_id\n",
    "            best_match_vector = user_vector \n",
    "            \n",
    "print('Best Match:{}, Best Match ID:{}'.format(best_match,best_match_id)) "
   ]
  },
  {
   "cell_type": "code",
   "execution_count": 49,
   "metadata": {
    "colab": {
     "base_uri": "https://localhost:8080/",
     "height": 35
    },
    "id": "OYTI1nT0hKtz",
    "outputId": "509dc5ca-4c9e-4c47-fdb4-3f6ecd19fbb6"
   },
   "outputs": [
    {
     "name": "stdout",
     "output_type": "stream",
     "text": [
      "Best Match:0.569065731527988, Best Match ID:915\n"
     ]
    }
   ],
   "source": [
    "my_id, my_vector = 0,adj_matrix [0]\n",
    "best_match, best_match_id, best_match_vector = -1, -1,[]\n",
    "\n",
    "for user_id,user_vector in enumerate(adj_matrix):\n",
    "    if my_id != user_id:\n",
    "        cos_similarity = compute_cos_similarity(my_vector,user_vector) #코사인 유사도 함수\n",
    "        if cos_similarity > best_match: \n",
    "            best_match = cos_similarity\n",
    "            best_match_id = user_id\n",
    "            best_match_vector = user_vector \n",
    "            \n",
    "print('Best Match:{}, Best Match ID:{}'.format(best_match,best_match_id)) "
   ]
  },
  {
   "cell_type": "markdown",
   "metadata": {
    "id": "HreRrslahd32"
   },
   "source": [
    "## 협업 필터링(Collaborative Filtering) - memory based\n",
    "\n",
    "* 사용자와 항목의 유사성을 동시에 고려해 추천\n",
    "* 기존에 내 관심사가 아닌 항목이라도 추천 가능\n",
    "* 자동으로 임베딩 학습 가능\n",
    "* 협업 필터링은 다음과 같은 장단점을 갖고 있다.\n",
    "  * 장점\n",
    "    * 자동으로 임베딩을 학습하기 때문에 도메인 지식이 필요 없다.\n",
    "    * 기존의 관심사가 아니더라도 추천 가능\n",
    "  * 단점\n",
    "    * 학습 과정에 나오지 않은 항목은 임베딩을 만들 수 없음\n",
    "    * 추가 특성을 사용하기 어려움"
   ]
  },
  {
   "cell_type": "code",
   "execution_count": 50,
   "metadata": {
    "id": "BSj5Ex6yhPxq"
   },
   "outputs": [],
   "source": [
    "from surprise import KNNBasic, SVD, SVDpp, NMF\n",
    "from surprise import Dataset\n",
    "from surprise.model_selection import cross_validate"
   ]
  },
  {
   "cell_type": "code",
   "execution_count": 52,
   "metadata": {
    "id": "mWAiO62WkH2U"
   },
   "outputs": [],
   "source": [
    "data = Dataset.load_builtin('ml-100k',prompt=False)"
   ]
  },
  {
   "cell_type": "markdown",
   "metadata": {},
   "source": [
    "* KNN을 사용한 협업 필터링"
   ]
  },
  {
   "cell_type": "code",
   "execution_count": 53,
   "metadata": {
    "scrolled": true
   },
   "outputs": [
    {
     "name": "stdout",
     "output_type": "stream",
     "text": [
      "Evaluating RMSE, MAE of algorithm KNNBasic on 5 split(s).\n",
      "\n",
      "                  Fold 1  Fold 2  Fold 3  Fold 4  Fold 5  Mean    Std     \n",
      "RMSE (testset)    0.9857  0.9704  0.9764  0.9831  0.9763  0.9784  0.0054  \n",
      "MAE (testset)     0.7795  0.7684  0.7715  0.7743  0.7712  0.7730  0.0037  \n",
      "Fit time          0.65    0.64    0.59    0.55    0.44    0.58    0.07    \n",
      "Test time         3.38    3.40    3.41    3.35    2.46    3.20    0.37    \n"
     ]
    },
    {
     "data": {
      "text/plain": [
       "{'test_rmse': array([0.98573857, 0.97038572, 0.97637102, 0.98307502, 0.97631092]),\n",
       " 'test_mae': array([0.77946979, 0.76839996, 0.77150216, 0.77433637, 0.77120902]),\n",
       " 'fit_time': (0.6462881565093994,\n",
       "  0.6438088417053223,\n",
       "  0.5927224159240723,\n",
       "  0.5540308952331543,\n",
       "  0.4434654712677002),\n",
       " 'test_time': (3.3837175369262695,\n",
       "  3.4000844955444336,\n",
       "  3.4144670963287354,\n",
       "  3.3509817123413086,\n",
       "  2.4621055126190186)}"
      ]
     },
     "execution_count": 53,
     "metadata": {},
     "output_type": "execute_result"
    }
   ],
   "source": [
    "model=KNNBasic() \n",
    "cross_validate(model,data,measures=['rmse','mae'],cv =5, n_jobs=4, verbose=True) "
   ]
  },
  {
   "cell_type": "markdown",
   "metadata": {},
   "source": [
    "* SVD를 사용한 협업 필터링"
   ]
  },
  {
   "cell_type": "code",
   "execution_count": 54,
   "metadata": {},
   "outputs": [
    {
     "name": "stdout",
     "output_type": "stream",
     "text": [
      "Evaluating RMSE, MAE of algorithm SVD on 5 split(s).\n",
      "\n",
      "                  Fold 1  Fold 2  Fold 3  Fold 4  Fold 5  Mean    Std     \n",
      "RMSE (testset)    0.9445  0.9411  0.9245  0.9342  0.9389  0.9366  0.0069  \n",
      "MAE (testset)     0.7446  0.7403  0.7288  0.7369  0.7411  0.7383  0.0054  \n",
      "Fit time          5.99    5.92    5.95    5.98    4.11    5.59    0.74    \n",
      "Test time         0.21    0.20    0.22    0.20    0.13    0.19    0.03    \n"
     ]
    },
    {
     "data": {
      "text/plain": [
       "{'test_rmse': array([0.94446848, 0.94112281, 0.92448033, 0.93423022, 0.93894047]),\n",
       " 'test_mae': array([0.74463463, 0.74028722, 0.72884103, 0.73686723, 0.74109707]),\n",
       " 'fit_time': (5.987718105316162,\n",
       "  5.915302276611328,\n",
       "  5.946056127548218,\n",
       "  5.976809978485107,\n",
       "  4.114366054534912),\n",
       " 'test_time': (0.20931291580200195,\n",
       "  0.20385527610778809,\n",
       "  0.21625423431396484,\n",
       "  0.19889354705810547,\n",
       "  0.12896466255187988)}"
      ]
     },
     "execution_count": 54,
     "metadata": {},
     "output_type": "execute_result"
    }
   ],
   "source": [
    "model= SVD()\n",
    "cross_validate(model,data,measures=['rmse','mae'],cv =5, n_jobs=4, verbose=True)"
   ]
  },
  {
   "cell_type": "markdown",
   "metadata": {
    "id": "MqK8Xgeglkmj"
   },
   "source": [
    "* NMF를 사용한 협업 필터링"
   ]
  },
  {
   "cell_type": "markdown",
   "metadata": {
    "id": "odXxXkX0mi_7"
   },
   "source": [
    "* SVD++를 사용한 협업 필터링 # run time이 너무 오래걸려 실행해보지 못했다 ㅠ"
   ]
  },
  {
   "cell_type": "code",
   "execution_count": null,
   "metadata": {
    "colab": {
     "base_uri": "https://localhost:8080/",
     "height": 145
    },
    "id": "Ck153w1Tlsxa",
    "outputId": "80f4c82f-e5eb-44fd-a419-083af357f899"
   },
   "outputs": [
    {
     "name": "stdout",
     "output_type": "stream",
     "text": [
      "Evaluating RMSE, MAE of algorithm SVDpp on 5 split(s).\n",
      "\n",
      "                  Fold 1  Fold 2  Fold 3  Fold 4  Fold 5  Mean    Std     \n",
      "RMSE (testset)    0.9237  0.9107  0.9172  0.9213  0.9272  0.9200  0.0057  \n",
      "MAE (testset)     0.7230  0.7136  0.7205  0.7230  0.7278  0.7216  0.0047  \n",
      "Fit time          686.16  675.43  688.32  673.90  172.86  579.34  203.32  \n",
      "Test time         12.88   12.85   8.31    12.56   3.16    9.95    3.81    \n"
     ]
    }
   ],
   "source": [
    "model= SVDpp()\n",
    "cross_validate(model,data,measures=['rmse','mae'],cv =5, n_jobs=4, verbose=True)"
   ]
  },
  {
   "cell_type": "markdown",
   "metadata": {
    "id": "hMNwOXpjqeWq"
   },
   "source": [
    "## 하이브리드(Hybrid)\n",
    "\n",
    "* 컨텐츠 기반 필터링과 협업 필터링을 조합한 방식\n",
    "* 많은 하이브리드 방식이 존재\n",
    "* 협업 필터링으로 임베딩을 학습하고 컨텐츠 기반 필터링으로 유사도 기반 추천해보았다."
   ]
  },
  {
   "cell_type": "code",
   "execution_count": 2,
   "metadata": {
    "id": "MtEuyQGGMmor"
   },
   "outputs": [],
   "source": [
    "import numpy as np\n",
    "from sklearn.decomposition import randomized_svd, non_negative_factorization\n",
    "from surprise import Dataset"
   ]
  },
  {
   "cell_type": "code",
   "execution_count": 3,
   "metadata": {
    "id": "esDSrjm_NshD"
   },
   "outputs": [],
   "source": [
    "data = Dataset.load_builtin('ml-100k',prompt=False)\n",
    "raw_data = np.array(data.raw_ratings,dtype=int)\n",
    "raw_data[:,0] -=1\n",
    "raw_data[:,1] -=1"
   ]
  },
  {
   "cell_type": "code",
   "execution_count": 6,
   "metadata": {
    "id": "v6lc4h2sNY_7"
   },
   "outputs": [
    {
     "data": {
      "text/plain": [
       "(943, 1682)"
      ]
     },
     "execution_count": 6,
     "metadata": {},
     "output_type": "execute_result"
    }
   ],
   "source": [
    "n_users = np.max(raw_data[:,0])\n",
    "n_movies = np.max(raw_data[:,1])\n",
    "shape = (n_users +1, n_movies +1)\n",
    "shape"
   ]
  },
  {
   "cell_type": "code",
   "execution_count": 8,
   "metadata": {
    "colab": {
     "base_uri": "https://localhost:8080/",
     "height": 145
    },
    "id": "bZnx294OTntk",
    "outputId": "5b79d596-d104-4748-e36c-d47f6403b686"
   },
   "outputs": [],
   "source": [
    "adj_matrix = np.ndarray(shape,dtype=int)\n",
    "for user_id,movie_id,rating, time in raw_data:\n",
    "    adj_matrix[user_id][movie_id] =rating"
   ]
  },
  {
   "cell_type": "code",
   "execution_count": 11,
   "metadata": {
    "id": "mpw7bmE-SVon"
   },
   "outputs": [
    {
     "data": {
      "text/plain": [
       "array([[5, 3, 4, ..., 0, 0, 0],\n",
       "       [4, 0, 0, ..., 0, 0, 0],\n",
       "       [0, 0, 0, ..., 0, 0, 0],\n",
       "       ...,\n",
       "       [5, 0, 0, ..., 0, 0, 0],\n",
       "       [0, 0, 0, ..., 0, 0, 0],\n",
       "       [0, 5, 0, ..., 0, 0, 0]])"
      ]
     },
     "execution_count": 11,
     "metadata": {},
     "output_type": "execute_result"
    }
   ],
   "source": [
    "adj_matrix"
   ]
  },
  {
   "cell_type": "code",
   "execution_count": 12,
   "metadata": {
    "colab": {
     "base_uri": "https://localhost:8080/",
     "height": 72
    },
    "id": "sdnXxd6lODFy",
    "outputId": "99358ad2-56cc-4e78-dcd3-5e38c0e51ce0"
   },
   "outputs": [],
   "source": [
    "U,S,V = randomized_svd(adj_matrix,n_components=2)\n",
    "S = np.diag(S)"
   ]
  },
  {
   "cell_type": "code",
   "execution_count": 15,
   "metadata": {
    "colab": {
     "base_uri": "https://localhost:8080/",
     "height": 254
    },
    "id": "zBvnhmuhOxDx",
    "outputId": "f06e2aac-3877-4e4b-a7bb-f9a87f75717c"
   },
   "outputs": [
    {
     "name": "stdout",
     "output_type": "stream",
     "text": [
      "(943, 2)\n",
      "(2, 2)\n",
      "(2, 1682)\n"
     ]
    }
   ],
   "source": [
    "print(U.shape)\n",
    "print(S.shape) # 잠재요인을 찾을 수 있는 특이값 vector\n",
    "print(V.shape)"
   ]
  },
  {
   "cell_type": "code",
   "execution_count": 16,
   "metadata": {},
   "outputs": [
    {
     "data": {
      "text/plain": [
       "array([[ 3.91732663e+00,  1.47276644e+00,  7.98261988e-01, ...,\n",
       "         6.24907189e-04,  1.41100852e-02,  1.36545878e-02],\n",
       "       [ 1.85777226e+00,  3.96191175e-01,  5.05705740e-01, ...,\n",
       "         5.38862978e-03,  1.77237914e-03,  5.26968095e-04],\n",
       "       [ 8.94989517e-01,  1.71578497e-01,  2.51738682e-01, ...,\n",
       "         2.92094923e-03,  5.39937171e-04, -1.25733753e-04],\n",
       "       ...,\n",
       "       [ 9.92051955e-01,  2.10814957e-01,  2.70363365e-01, ...,\n",
       "         2.89019297e-03,  9.34221962e-04,  2.66612193e-04],\n",
       "       [ 1.30425401e+00,  5.27669941e-01,  2.50080165e-01, ...,\n",
       "        -4.20677765e-04,  5.30525683e-03,  5.28069948e-03],\n",
       "       [ 2.82999397e+00,  9.70812247e-01,  6.15871694e-01, ...,\n",
       "         2.02091492e-03,  8.67740813e-03,  8.03107892e-03]])"
      ]
     },
     "execution_count": 16,
     "metadata": {},
     "output_type": "execute_result"
    }
   ],
   "source": [
    "np.matmul(np.matmul(U,S),V)"
   ]
  },
  {
   "cell_type": "markdown",
   "metadata": {
    "id": "3pSBMfF7d74E"
   },
   "source": [
    "### 사용자 기반 추천\n",
    "* 나와 비슷한 취향을 가진 다른 사용자의 행동을 추천\n",
    "* 사용자 특징 벡터의 유사도 사용"
   ]
  },
  {
   "cell_type": "code",
   "execution_count": 20,
   "metadata": {
    "colab": {
     "base_uri": "https://localhost:8080/",
     "height": 35
    },
    "id": "N6nYexy6cq9V",
    "outputId": "ee3b32b9-3717-4847-955e-0b8c361683c2"
   },
   "outputs": [
    {
     "name": "stdout",
     "output_type": "stream",
     "text": [
      "Best Match:0.9999942295956324, Best Match ID:235\n"
     ]
    }
   ],
   "source": [
    "my_id, my_vector = 0,U[0]\n",
    "best_match, best_match_id, best_match_vector = -1, -1,[]\n",
    "\n",
    "for user_id,user_vector in enumerate(U):\n",
    "    if my_id != user_id:\n",
    "        cos_similarity = compute_cos_similarity(my_vector,user_vector) #코사인 유사도 함수\n",
    "        if cos_similarity > best_match: \n",
    "            best_match = cos_similarity\n",
    "            best_match_id = user_id\n",
    "            best_match_vector = user_vector \n",
    "            \n",
    "print('Best Match:{}, Best Match ID:{}'.format(best_match,best_match_id)) "
   ]
  },
  {
   "cell_type": "markdown",
   "metadata": {},
   "source": [
    "### Hybrid -> Cos similarity / 56% -> 99%"
   ]
  },
  {
   "cell_type": "code",
   "execution_count": 21,
   "metadata": {
    "colab": {
     "base_uri": "https://localhost:8080/",
     "height": 55
    },
    "id": "wdISUAEIfoHi",
    "outputId": "4ab44421-ebba-47e4-efc7-761e2bc2ed71"
   },
   "outputs": [
    {
     "name": "stdout",
     "output_type": "stream",
     "text": [
      "[272, 273, 274, 281, 285, 288, 293, 297, 303, 306, 312, 317, 327, 332, 369, 410, 418, 419, 422, 426, 428, 431, 434, 442, 461, 475, 477, 482, 495, 503, 504, 505, 506, 509, 519, 520, 522, 525, 531, 545, 548, 590, 594, 595, 613, 631, 654, 658, 660, 672, 684, 685, 691, 695, 698, 704, 716, 728, 734, 749, 755, 863, 865, 933, 1012, 1038, 1101, 1327, 1400]\n"
     ]
    }
   ],
   "source": [
    "recommend_list = []\n",
    "for i, log in enumerate(zip(adj_matrix[my_id],adj_matrix[best_match_id])):\n",
    "    log1, log2 = log\n",
    "    if log1 <1. and log2 >0.:\n",
    "        recommend_list.append(i)\n",
    "print(recommend_list) "
   ]
  },
  {
   "cell_type": "markdown",
   "metadata": {
    "id": "0nSD2izbhJix"
   },
   "source": [
    "### 항목 기반 추천\n",
    "* 내가 본 항목과 비슷한 항목을 추천\n",
    "* 항목 특징 벡터의 유사도 사용"
   ]
  },
  {
   "cell_type": "code",
   "execution_count": 34,
   "metadata": {
    "colab": {
     "base_uri": "https://localhost:8080/",
     "height": 35
    },
    "id": "vCLxtkLdgM-s",
    "outputId": "3e8ddd9c-91a7-4e90-84f6-1b7ac81c334a"
   },
   "outputs": [
    {
     "name": "stdout",
     "output_type": "stream",
     "text": [
      "Best Match:0.9999999951364145, Best Match ID:1287\n"
     ]
    }
   ],
   "source": [
    "my_id, my_vector = 0,V.T[0] #V값은 곱으로 Decomposition 했기 때문에 tranpose 한 번 해준다\n",
    "best_match, best_match_id, best_match_vector = -1, -1,[]\n",
    "\n",
    "for user_id,user_vector in enumerate(V.T):\n",
    "    if my_id != user_id:\n",
    "        cos_similarity = compute_cos_similarity(my_vector,user_vector) #코사인 유사도 함수\n",
    "        if cos_similarity > best_match: \n",
    "            best_match = cos_similarity\n",
    "            best_match_id = user_id\n",
    "            best_match_vector = user_vector \n",
    "            \n",
    "print('Best Match:{}, Best Match ID:{}'.format(best_match,best_match_id)) "
   ]
  },
  {
   "cell_type": "code",
   "execution_count": 35,
   "metadata": {
    "colab": {
     "base_uri": "https://localhost:8080/",
     "height": 55
    },
    "id": "IZ49Abk7iBeU",
    "outputId": "c72abba8-b668-4226-8f96-102615544e71"
   },
   "outputs": [
    {
     "name": "stdout",
     "output_type": "stream",
     "text": [
      "[0, 1, 4, 5, 9, 12, 14, 15, 16, 17, 19, 20, 22, 24, 25, 37, 40, 41, 42, 43, 44, 48, 53, 55, 56, 57, 58, 61, 62, 63, 64, 65, 66, 69, 71, 72, 74, 76, 78, 80, 81, 82, 83, 88, 91, 92, 93, 94, 95, 96, 98, 100, 101, 105, 107, 108, 116, 119, 120, 123, 124, 127, 129, 130, 133, 136, 137, 140, 143, 144, 147, 149, 150, 156, 157, 159, 161, 167, 173, 176, 177, 180, 181, 183, 188, 192, 193, 197, 198, 199, 200, 201, 202, 203, 208, 209, 212, 215, 221, 222, 229, 230, 231, 233, 234, 241, 242, 243, 245, 246, 247, 248, 249, 250, 251, 252, 253, 255, 261, 262, 264, 267, 270, 273, 274, 275, 276, 278, 279, 285, 286, 288, 289, 290, 291, 292, 293, 294, 295, 296, 297, 298, 300, 302, 304, 306, 307, 310, 311, 312, 313, 319, 321, 323, 324, 325, 326, 329, 330, 331, 335, 337, 338, 339, 342, 343, 344, 346, 347, 349, 356, 358, 359, 362, 364, 370, 373, 377, 378, 379, 380, 386, 387, 388, 389, 392, 393, 394, 395, 397, 398, 400, 401, 402, 405, 406, 410, 411, 415, 416, 418, 421, 423, 424, 428, 431, 433, 434, 437, 440, 444, 446, 449, 453, 454, 455, 456, 457, 458, 459, 462, 464, 466, 467, 469, 470, 471, 477, 478, 482, 483, 485, 486, 487, 489, 492, 493, 494, 496, 499, 502, 504, 507, 511, 513, 516, 517, 520, 522, 524, 525, 531, 532, 533, 534, 535, 536, 539, 540, 541, 544, 547, 548, 549, 551, 552, 553, 559, 560, 561, 566, 568, 575, 576, 578, 579, 581, 587, 591, 592, 596, 598, 601, 604, 605, 608, 609, 611, 612, 613, 617, 619, 620, 621, 623, 629, 631, 633, 634, 635, 636, 641, 642, 647, 648, 649, 652, 653, 654, 656, 657, 659, 660, 662, 663, 664, 668, 673, 675, 676, 677, 678, 679, 681, 683, 688, 689, 690, 691, 696, 697, 698, 700, 702, 704, 705, 707, 708, 709, 713, 714, 715, 720, 722, 725, 726, 729, 730, 732, 734, 737, 741, 743, 744, 745, 746, 747, 748, 750, 755, 756, 758, 760, 762, 763, 766, 767, 768, 769, 770, 772, 776, 778, 784, 785, 787, 788, 789, 791, 792, 793, 794, 795, 797, 799, 803, 804, 805, 806, 814, 816, 820, 821, 822, 825, 828, 829, 830, 834, 837, 838, 842, 846, 851, 853, 863, 864, 866, 867, 869, 871, 878, 879, 880, 881, 882, 884, 885, 886, 888, 889, 891, 892, 893, 894, 895, 896, 898, 900, 901, 902, 906, 909, 912, 915, 916, 917, 918, 920, 921, 922, 923, 926, 928, 929, 931, 932, 933, 934, 935, 937, 940]\n"
     ]
    }
   ],
   "source": [
    "recommend_list = []\n",
    "for i, user_vector in enumerate(adj_matrix):\n",
    "    if adj_matrix[i][my_id] > 0.9:\n",
    "        recommend_list.append(i)\n",
    "print(recommend_list) "
   ]
  },
  {
   "cell_type": "markdown",
   "metadata": {
    "id": "7uAlUROxj2nA"
   },
   "source": [
    "* 비음수 행렬 분해를 사용한 하이브리드 추천"
   ]
  },
  {
   "cell_type": "code",
   "execution_count": 36,
   "metadata": {
    "colab": {
     "base_uri": "https://localhost:8080/",
     "height": 145
    },
    "id": "Ou2UGuXMTY39",
    "outputId": "dabd8748-bf4e-4fa2-ebfd-f36ae59cb386"
   },
   "outputs": [
    {
     "data": {
      "text/plain": [
       "array([[5, 3, 4, ..., 0, 0, 0],\n",
       "       [4, 0, 0, ..., 0, 0, 0],\n",
       "       [0, 0, 0, ..., 0, 0, 0],\n",
       "       ...,\n",
       "       [5, 0, 0, ..., 0, 0, 0],\n",
       "       [0, 0, 0, ..., 0, 0, 0],\n",
       "       [0, 5, 0, ..., 0, 0, 0]])"
      ]
     },
     "execution_count": 36,
     "metadata": {},
     "output_type": "execute_result"
    }
   ],
   "source": [
    "adj_matrix"
   ]
  },
  {
   "cell_type": "code",
   "execution_count": 37,
   "metadata": {
    "colab": {
     "base_uri": "https://localhost:8080/",
     "height": 254
    },
    "id": "hqtcd6HmkOsA",
    "outputId": "022d88e1-a42a-454f-80f1-209a8ce31ffa",
    "scrolled": true
   },
   "outputs": [
    {
     "name": "stderr",
     "output_type": "stream",
     "text": [
      "C:\\Users\\vythf\\anaconda3\\lib\\site-packages\\sklearn\\decomposition\\_nmf.py:312: FutureWarning: The 'init' value, when 'init=None' and n_components is less than n_samples and n_features, will be changed from 'nndsvd' to 'nndsvda' in 1.1 (renaming of 0.26).\n",
      "  warnings.warn((\"The 'init' value, when 'init=None' and \"\n"
     ]
    }
   ],
   "source": [
    "A,B,iter = non_negative_factorization(adj_matrix,n_components=2)"
   ]
  },
  {
   "cell_type": "code",
   "execution_count": 42,
   "metadata": {},
   "outputs": [
    {
     "data": {
      "text/plain": [
       "array([[3.71108858e+00, 1.48454102e+00, 7.39535363e-01, ...,\n",
       "        3.64490531e-03, 1.45506510e-02, 1.44110916e-02],\n",
       "       [2.11724416e+00, 2.37338725e-01, 5.51650703e-01, ...,\n",
       "        4.76092332e-03, 3.03585167e-05, 0.00000000e+00],\n",
       "       [9.85272360e-01, 1.10447010e-01, 2.56713988e-01, ...,\n",
       "        2.21552443e-03, 1.41275191e-05, 0.00000000e+00],\n",
       "       ...,\n",
       "       [1.04485667e+00, 1.17126289e-01, 2.72238757e-01, ...,\n",
       "        2.34950819e-03, 1.49818804e-05, 0.00000000e+00],\n",
       "       [1.45758857e+00, 5.42112787e-01, 2.99181695e-01, ...,\n",
       "        1.61177659e-03, 5.15921394e-03, 5.10771005e-03],\n",
       "       [2.44733103e+00, 9.41208708e-01, 4.95740038e-01, ...,\n",
       "        2.56992125e-03, 9.08287324e-03, 8.99389282e-03]])"
      ]
     },
     "execution_count": 42,
     "metadata": {},
     "output_type": "execute_result"
    }
   ],
   "source": [
    "np.matmul(A,B)"
   ]
  },
  {
   "cell_type": "markdown",
   "metadata": {
    "id": "6DGX9EtEop4i"
   },
   "source": [
    "### 사용자 기반 추천"
   ]
  },
  {
   "cell_type": "code",
   "execution_count": 38,
   "metadata": {
    "colab": {
     "base_uri": "https://localhost:8080/",
     "height": 35
    },
    "id": "dndXY3Gvm7zs",
    "outputId": "b0e6157c-dffe-47f2-e0e8-045a6d207f7b"
   },
   "outputs": [
    {
     "name": "stdout",
     "output_type": "stream",
     "text": [
      "Best Match:0.9999942295956324, Best Match ID:235\n"
     ]
    }
   ],
   "source": [
    "my_id, my_vector = 0, U[0]  # 내 id가 0번 이라고 가정\n",
    "best_match, best_match_id, best_match_vector = -1, -1,[]\n",
    "\n",
    "for user_id,user_vector in enumerate(U):\n",
    "    if my_id != user_id:\n",
    "        cos_similarity = compute_cos_similarity(my_vector,user_vector) #코사인 유사도 함수\n",
    "        if cos_similarity > best_match: \n",
    "            best_match = cos_similarity\n",
    "            best_match_id = user_id\n",
    "            best_match_vector = user_vector \n",
    "            \n",
    "print('Best Match:{}, Best Match ID:{}'.format(best_match,best_match_id)) "
   ]
  },
  {
   "cell_type": "code",
   "execution_count": 39,
   "metadata": {
    "colab": {
     "base_uri": "https://localhost:8080/",
     "height": 55
    },
    "id": "njszNHE_m9MK",
    "outputId": "d70f8e65-8d77-4215-b5e5-4f5b79994b0f"
   },
   "outputs": [
    {
     "name": "stdout",
     "output_type": "stream",
     "text": [
      "[272, 273, 274, 281, 285, 288, 293, 297, 303, 306, 312, 317, 327, 332, 369, 410, 418, 419, 422, 426, 428, 431, 434, 442, 461, 475, 477, 482, 495, 503, 504, 505, 506, 509, 519, 520, 522, 525, 531, 545, 548, 590, 594, 595, 613, 631, 654, 658, 660, 672, 684, 685, 691, 695, 698, 704, 716, 728, 734, 749, 755, 863, 865, 933, 1012, 1038, 1101, 1327, 1400]\n"
     ]
    }
   ],
   "source": [
    "recommend_list = []\n",
    "for i, log in enumerate(zip(adj_matrix[my_id], adj_matrix[best_match_id])):\n",
    "  log1, log2 = log\n",
    "  if log1 < 1. and log2 > 0.:\n",
    "    recommend_list.append(i)\n",
    "print(recommend_list)"
   ]
  },
  {
   "cell_type": "markdown",
   "metadata": {
    "id": "F21eqO8dosUE"
   },
   "source": [
    "* 항목 기반 추천"
   ]
  },
  {
   "cell_type": "code",
   "execution_count": 44,
   "metadata": {
    "colab": {
     "base_uri": "https://localhost:8080/",
     "height": 35
    },
    "id": "G8RZo0Mvom4X",
    "outputId": "bac513b3-0c73-454f-e276-c4827c36914f"
   },
   "outputs": [
    {
     "name": "stdout",
     "output_type": "stream",
     "text": [
      "Best Match: 0.9999999951364145, Best Match ID: 1287\n"
     ]
    }
   ],
   "source": [
    "my_id, my_vector = 0, V.T[0]  # 기준 항목이 0번 이라고 가정\n",
    "best_match, best_match_id, best_match_vector = -1, -1, []\n",
    "\n",
    "for item_id, item_vector in enumerate(V.T):\n",
    "    if my_id != item_id:\n",
    "        cos_similarity = compute_cos_similarity(my_vector, item_vector)\n",
    "    if cos_similarity > best_match:\n",
    "        best_match = cos_similarity\n",
    "        best_match_id = item_id\n",
    "        best_match_vector = item_vector\n",
    "\n",
    "print('Best Match: {}, Best Match ID: {}'.format(best_match, best_match_id))"
   ]
  },
  {
   "cell_type": "code",
   "execution_count": 46,
   "metadata": {
    "colab": {
     "base_uri": "https://localhost:8080/",
     "height": 55
    },
    "id": "G_ua-2Lcox8i",
    "outputId": "a1d953df-dd09-4563-f522-8bb9fce8244a"
   },
   "outputs": [
    {
     "name": "stdout",
     "output_type": "stream",
     "text": [
      "[0, 1, 4, 5, 9, 12, 14, 15, 16, 17, 19, 20, 22, 24, 25, 37, 40, 41, 42, 43, 44, 48, 53, 55, 56, 57, 58, 61, 62, 63, 64, 65, 66, 69, 71, 72, 74, 76, 78, 80, 81, 82, 83, 88, 91, 92, 93, 94, 95, 96, 98, 100, 101, 105, 107, 108, 116, 119, 120, 123, 124, 127, 129, 130, 133, 136, 137, 140, 143, 144, 147, 149, 150, 156, 157, 159, 161, 167, 173, 176, 177, 180, 181, 183, 188, 192, 193, 197, 198, 199, 200, 201, 202, 203, 208, 209, 212, 215, 221, 222, 229, 230, 231, 233, 234, 241, 242, 243, 245, 246, 247, 248, 249, 250, 251, 252, 253, 255, 261, 262, 264, 267, 270, 273, 274, 275, 276, 278, 279, 285, 286, 288, 289, 290, 291, 292, 293, 294, 295, 296, 297, 298, 300, 302, 304, 306, 307, 310, 311, 312, 313, 319, 321, 323, 324, 325, 326, 329, 330, 331, 335, 337, 338, 339, 342, 343, 344, 346, 347, 349, 356, 358, 359, 362, 364, 370, 373, 377, 378, 379, 380, 386, 387, 388, 389, 392, 393, 394, 395, 397, 398, 400, 401, 402, 405, 406, 410, 411, 415, 416, 418, 421, 423, 424, 428, 431, 433, 434, 437, 440, 444, 446, 449, 453, 454, 455, 456, 457, 458, 459, 462, 464, 466, 467, 469, 470, 471, 477, 478, 482, 483, 485, 486, 487, 489, 492, 493, 494, 496, 499, 502, 504, 507, 511, 513, 516, 517, 520, 522, 524, 525, 531, 532, 533, 534, 535, 536, 539, 540, 541, 544, 547, 548, 549, 551, 552, 553, 559, 560, 561, 566, 568, 575, 576, 578, 579, 581, 587, 591, 592, 596, 598, 601, 604, 605, 608, 609, 611, 612, 613, 617, 619, 620, 621, 623, 629, 631, 633, 634, 635, 636, 641, 642, 647, 648, 649, 652, 653, 654, 656, 657, 659, 660, 662, 663, 664, 668, 673, 675, 676, 677, 678, 679, 681, 683, 688, 689, 690, 691, 696, 697, 698, 700, 702, 704, 705, 707, 708, 709, 713, 714, 715, 720, 722, 725, 726, 729, 730, 732, 734, 737, 741, 743, 744, 745, 746, 747, 748, 750, 755, 756, 758, 760, 762, 763, 766, 767, 768, 769, 770, 772, 776, 778, 784, 785, 787, 788, 789, 791, 792, 793, 794, 795, 797, 799, 803, 804, 805, 806, 814, 816, 820, 821, 822, 825, 828, 829, 830, 834, 837, 838, 842, 846, 851, 853, 863, 864, 866, 867, 869, 871, 878, 879, 880, 881, 882, 884, 885, 886, 888, 889, 891, 892, 893, 894, 895, 896, 898, 900, 901, 902, 906, 909, 912, 915, 916, 917, 918, 920, 921, 922, 923, 926, 928, 929, 931, 932, 933, 934, 935, 937, 940]\n"
     ]
    }
   ],
   "source": [
    "recommend_list = []\n",
    "for i, user_vector in enumerate(adj_matrix):\n",
    "    if adj_matrix[i][my_id] > 0.9:\n",
    "        recommend_list.append(i)\n",
    "print(recommend_list)"
   ]
  }
 ],
 "metadata": {
  "colab": {
   "collapsed_sections": [],
   "provenance": [],
   "toc_visible": true
  },
  "kernelspec": {
   "display_name": "Python 3 (ipykernel)",
   "language": "python",
   "name": "python3"
  },
  "language_info": {
   "codemirror_mode": {
    "name": "ipython",
    "version": 3
   },
   "file_extension": ".py",
   "mimetype": "text/x-python",
   "name": "python",
   "nbconvert_exporter": "python",
   "pygments_lexer": "ipython3",
   "version": "3.9.7"
  }
 },
 "nbformat": 4,
 "nbformat_minor": 1
}
